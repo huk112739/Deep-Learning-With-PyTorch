{
 "cells": [
  {
   "cell_type": "markdown",
   "id": "b3b55fe8",
   "metadata": {},
   "source": [
    "# 3.2 多维数组"
   ]
  },
  {
   "cell_type": "markdown",
   "id": "d417b0c9",
   "metadata": {},
   "source": [
    "## 3.2.1 从Python 列表到 PyTorch张量"
   ]
  },
  {
   "cell_type": "code",
   "execution_count": 1,
   "id": "10e7ff84",
   "metadata": {},
   "outputs": [],
   "source": [
    "a = [1.0, 2.0, 1.0]"
   ]
  },
  {
   "cell_type": "code",
   "execution_count": 2,
   "id": "c437e9d8",
   "metadata": {},
   "outputs": [
    {
     "data": {
      "text/plain": [
       "1.0"
      ]
     },
     "execution_count": 2,
     "metadata": {},
     "output_type": "execute_result"
    }
   ],
   "source": [
    "a[0]"
   ]
  },
  {
   "cell_type": "code",
   "execution_count": 3,
   "id": "09385755",
   "metadata": {},
   "outputs": [],
   "source": [
    "a[2] = 3.0"
   ]
  },
  {
   "cell_type": "code",
   "execution_count": 4,
   "id": "f74640e9",
   "metadata": {},
   "outputs": [
    {
     "data": {
      "text/plain": [
       "[1.0, 2.0, 3.0]"
      ]
     },
     "execution_count": 4,
     "metadata": {},
     "output_type": "execute_result"
    }
   ],
   "source": [
    "a"
   ]
  },
  {
   "cell_type": "markdown",
   "id": "5f75fc88",
   "metadata": {},
   "source": [
    "## 3.2.2 构造第1个张量"
   ]
  },
  {
   "cell_type": "code",
   "execution_count": 2,
   "id": "6c7b4560",
   "metadata": {},
   "outputs": [],
   "source": [
    "import torch"
   ]
  },
  {
   "cell_type": "code",
   "execution_count": 6,
   "id": "41bb287a",
   "metadata": {},
   "outputs": [],
   "source": [
    "a = torch.ones(3)"
   ]
  },
  {
   "cell_type": "code",
   "execution_count": 7,
   "id": "b4d589a2",
   "metadata": {},
   "outputs": [
    {
     "data": {
      "text/plain": [
       "tensor([1., 1., 1.])"
      ]
     },
     "execution_count": 7,
     "metadata": {},
     "output_type": "execute_result"
    }
   ],
   "source": [
    "a"
   ]
  },
  {
   "cell_type": "code",
   "execution_count": 8,
   "id": "89f48ea8",
   "metadata": {},
   "outputs": [
    {
     "data": {
      "text/plain": [
       "tensor(1.)"
      ]
     },
     "execution_count": 8,
     "metadata": {},
     "output_type": "execute_result"
    }
   ],
   "source": [
    "a[1]"
   ]
  },
  {
   "cell_type": "code",
   "execution_count": 9,
   "id": "2bfcb996",
   "metadata": {},
   "outputs": [
    {
     "data": {
      "text/plain": [
       "1.0"
      ]
     },
     "execution_count": 9,
     "metadata": {},
     "output_type": "execute_result"
    }
   ],
   "source": [
    "float(a[1])"
   ]
  },
  {
   "cell_type": "code",
   "execution_count": 10,
   "id": "127af05b",
   "metadata": {},
   "outputs": [],
   "source": [
    "a[2] = 2.0"
   ]
  },
  {
   "cell_type": "code",
   "execution_count": 11,
   "id": "6bf9acc3",
   "metadata": {},
   "outputs": [
    {
     "data": {
      "text/plain": [
       "tensor([1., 1., 2.])"
      ]
     },
     "execution_count": 11,
     "metadata": {},
     "output_type": "execute_result"
    }
   ],
   "source": [
    "a"
   ]
  },
  {
   "cell_type": "markdown",
   "id": "747b8ef5",
   "metadata": {},
   "source": [
    "## 3.2.3 张量的本质"
   ]
  },
  {
   "cell_type": "code",
   "execution_count": 12,
   "id": "25e29ec3",
   "metadata": {},
   "outputs": [],
   "source": [
    "points = torch.zeros(6)"
   ]
  },
  {
   "cell_type": "code",
   "execution_count": 13,
   "id": "8fca991d",
   "metadata": {},
   "outputs": [],
   "source": [
    "points[1] = 4.0"
   ]
  },
  {
   "cell_type": "code",
   "execution_count": 14,
   "id": "aee56fe0",
   "metadata": {},
   "outputs": [],
   "source": [
    "points = torch.tensor([4.0, 1.0, 5.0, 3.0, 2.0, 1.0])"
   ]
  },
  {
   "cell_type": "code",
   "execution_count": 15,
   "id": "fd3e558b",
   "metadata": {},
   "outputs": [
    {
     "data": {
      "text/plain": [
       "tensor([4., 1., 5., 3., 2., 1.])"
      ]
     },
     "execution_count": 15,
     "metadata": {},
     "output_type": "execute_result"
    }
   ],
   "source": [
    "points"
   ]
  },
  {
   "cell_type": "code",
   "execution_count": 16,
   "id": "eceea6b7",
   "metadata": {},
   "outputs": [
    {
     "data": {
      "text/plain": [
       "(4.0, 1.0)"
      ]
     },
     "execution_count": 16,
     "metadata": {},
     "output_type": "execute_result"
    }
   ],
   "source": [
    "float(points[0]), float(points[1])"
   ]
  },
  {
   "cell_type": "code",
   "execution_count": 18,
   "id": "c5635698",
   "metadata": {},
   "outputs": [],
   "source": [
    "points = torch.tensor([[4.0, 1.0], [5.0, 3.0], [2.0, 1.0]])"
   ]
  },
  {
   "cell_type": "code",
   "execution_count": 19,
   "id": "685ce67e",
   "metadata": {},
   "outputs": [
    {
     "data": {
      "text/plain": [
       "tensor([[4., 1.],\n",
       "        [5., 3.],\n",
       "        [2., 1.]])"
      ]
     },
     "execution_count": 19,
     "metadata": {},
     "output_type": "execute_result"
    }
   ],
   "source": [
    "points"
   ]
  },
  {
   "cell_type": "code",
   "execution_count": 20,
   "id": "b497e2c4",
   "metadata": {},
   "outputs": [
    {
     "data": {
      "text/plain": [
       "torch.Size([3, 2])"
      ]
     },
     "execution_count": 20,
     "metadata": {},
     "output_type": "execute_result"
    }
   ],
   "source": [
    "points.shape"
   ]
  },
  {
   "cell_type": "code",
   "execution_count": 21,
   "id": "0538c223",
   "metadata": {},
   "outputs": [],
   "source": [
    "points = torch.zeros(3, 2)"
   ]
  },
  {
   "cell_type": "code",
   "execution_count": 22,
   "id": "90ad6a3d",
   "metadata": {},
   "outputs": [
    {
     "data": {
      "text/plain": [
       "tensor([[0., 0.],\n",
       "        [0., 0.],\n",
       "        [0., 0.]])"
      ]
     },
     "execution_count": 22,
     "metadata": {},
     "output_type": "execute_result"
    }
   ],
   "source": [
    "points"
   ]
  },
  {
   "cell_type": "code",
   "execution_count": 23,
   "id": "9996a38c",
   "metadata": {},
   "outputs": [],
   "source": [
    "points = torch.tensor([[4.0, 1.0], [5.0, 3.0], [2.0, 1.0]])"
   ]
  },
  {
   "cell_type": "code",
   "execution_count": 24,
   "id": "5faeb381",
   "metadata": {},
   "outputs": [
    {
     "data": {
      "text/plain": [
       "tensor([[4., 1.],\n",
       "        [5., 3.],\n",
       "        [2., 1.]])"
      ]
     },
     "execution_count": 24,
     "metadata": {},
     "output_type": "execute_result"
    }
   ],
   "source": [
    "points"
   ]
  },
  {
   "cell_type": "code",
   "execution_count": 25,
   "id": "450ff769",
   "metadata": {},
   "outputs": [
    {
     "data": {
      "text/plain": [
       "tensor(1.)"
      ]
     },
     "execution_count": 25,
     "metadata": {},
     "output_type": "execute_result"
    }
   ],
   "source": [
    "points[0,1]"
   ]
  },
  {
   "cell_type": "code",
   "execution_count": 26,
   "id": "7fce1380",
   "metadata": {},
   "outputs": [
    {
     "data": {
      "text/plain": [
       "tensor([4., 1.])"
      ]
     },
     "execution_count": 26,
     "metadata": {},
     "output_type": "execute_result"
    }
   ],
   "source": [
    "points[0]"
   ]
  },
  {
   "cell_type": "markdown",
   "id": "52956bba",
   "metadata": {},
   "source": [
    "# 3.3 张量索引"
   ]
  },
  {
   "cell_type": "markdown",
   "id": "d8fac20e",
   "metadata": {},
   "source": [
    "### 列表"
   ]
  },
  {
   "cell_type": "code",
   "execution_count": 28,
   "id": "dfa079f3",
   "metadata": {},
   "outputs": [],
   "source": [
    "some_list  = list(range(6))"
   ]
  },
  {
   "cell_type": "code",
   "execution_count": 29,
   "id": "15d5b251",
   "metadata": {},
   "outputs": [
    {
     "data": {
      "text/plain": [
       "[0, 1, 2, 3, 4, 5]"
      ]
     },
     "execution_count": 29,
     "metadata": {},
     "output_type": "execute_result"
    }
   ],
   "source": [
    "some_list[:]"
   ]
  },
  {
   "cell_type": "code",
   "execution_count": 30,
   "id": "5cb2e934",
   "metadata": {},
   "outputs": [
    {
     "data": {
      "text/plain": [
       "[1, 2, 3]"
      ]
     },
     "execution_count": 30,
     "metadata": {},
     "output_type": "execute_result"
    }
   ],
   "source": [
    "some_list[1:4]"
   ]
  },
  {
   "cell_type": "code",
   "execution_count": 31,
   "id": "04f83abe",
   "metadata": {},
   "outputs": [
    {
     "data": {
      "text/plain": [
       "[0, 1, 2, 3, 4]"
      ]
     },
     "execution_count": 31,
     "metadata": {},
     "output_type": "execute_result"
    }
   ],
   "source": [
    "some_list[:5]"
   ]
  },
  {
   "cell_type": "code",
   "execution_count": 32,
   "id": "0246e282",
   "metadata": {},
   "outputs": [
    {
     "data": {
      "text/plain": [
       "[2, 3, 4, 5]"
      ]
     },
     "execution_count": 32,
     "metadata": {},
     "output_type": "execute_result"
    }
   ],
   "source": [
    "some_list[2:]"
   ]
  },
  {
   "cell_type": "code",
   "execution_count": 33,
   "id": "c777eea5",
   "metadata": {},
   "outputs": [
    {
     "data": {
      "text/plain": [
       "[0, 1, 2, 3, 4]"
      ]
     },
     "execution_count": 33,
     "metadata": {},
     "output_type": "execute_result"
    }
   ],
   "source": [
    "some_list[: -1]"
   ]
  },
  {
   "cell_type": "markdown",
   "id": "5509f0be",
   "metadata": {},
   "source": [
    "#### some_list[: -1] 到最后一个元素之前"
   ]
  },
  {
   "cell_type": "code",
   "execution_count": 35,
   "id": "aca67777",
   "metadata": {},
   "outputs": [
    {
     "data": {
      "text/plain": [
       "[0, 2, 4]"
      ]
     },
     "execution_count": 35,
     "metadata": {},
     "output_type": "execute_result"
    }
   ],
   "source": [
    "some_list[::2]"
   ]
  },
  {
   "cell_type": "code",
   "execution_count": 36,
   "id": "25eb3da9",
   "metadata": {},
   "outputs": [
    {
     "data": {
      "text/plain": [
       "[1, 3]"
      ]
     },
     "execution_count": 36,
     "metadata": {},
     "output_type": "execute_result"
    }
   ],
   "source": [
    "some_list[1:4:2]"
   ]
  },
  {
   "cell_type": "markdown",
   "id": "8eea39db",
   "metadata": {},
   "source": [
    "### 张量"
   ]
  },
  {
   "cell_type": "code",
   "execution_count": 37,
   "id": "8f42a9f9",
   "metadata": {},
   "outputs": [
    {
     "data": {
      "text/plain": [
       "tensor([[4., 1.],\n",
       "        [5., 3.],\n",
       "        [2., 1.]])"
      ]
     },
     "execution_count": 37,
     "metadata": {},
     "output_type": "execute_result"
    }
   ],
   "source": [
    "points[:]"
   ]
  },
  {
   "cell_type": "code",
   "execution_count": 38,
   "id": "b97ce9e7",
   "metadata": {},
   "outputs": [
    {
     "data": {
      "text/plain": [
       "tensor([[5., 3.],\n",
       "        [2., 1.]])"
      ]
     },
     "execution_count": 38,
     "metadata": {},
     "output_type": "execute_result"
    }
   ],
   "source": [
    "points[1:]"
   ]
  },
  {
   "cell_type": "code",
   "execution_count": 39,
   "id": "fa668ed0",
   "metadata": {},
   "outputs": [
    {
     "data": {
      "text/plain": [
       "tensor([[5., 3.],\n",
       "        [2., 1.]])"
      ]
     },
     "execution_count": 39,
     "metadata": {},
     "output_type": "execute_result"
    }
   ],
   "source": [
    "points[1:, :]"
   ]
  },
  {
   "cell_type": "code",
   "execution_count": 41,
   "id": "939cac32",
   "metadata": {},
   "outputs": [
    {
     "data": {
      "text/plain": [
       "tensor([[3.],\n",
       "        [1.]])"
      ]
     },
     "execution_count": 41,
     "metadata": {},
     "output_type": "execute_result"
    }
   ],
   "source": [
    "points[1:3, 1:]"
   ]
  },
  {
   "cell_type": "code",
   "execution_count": 42,
   "id": "29919880",
   "metadata": {},
   "outputs": [
    {
     "data": {
      "text/plain": [
       "tensor([4., 1.])"
      ]
     },
     "execution_count": 42,
     "metadata": {},
     "output_type": "execute_result"
    }
   ],
   "source": [
    "points[0]"
   ]
  },
  {
   "cell_type": "markdown",
   "id": "23356ce1",
   "metadata": {},
   "source": [
    "# 3.4命名张量"
   ]
  },
  {
   "cell_type": "code",
   "execution_count": 4,
   "id": "21a57af8",
   "metadata": {},
   "outputs": [],
   "source": [
    "img_t = torch.randn(3, 5, 5)  # shape[channels, rows, columns]"
   ]
  },
  {
   "cell_type": "code",
   "execution_count": 5,
   "id": "e05cdad9",
   "metadata": {},
   "outputs": [
    {
     "data": {
      "text/plain": [
       "tensor([[[-0.2409, -0.6451,  1.6245, -1.3412,  1.1031],\n",
       "         [ 2.1000,  1.2271,  0.2801, -1.0641,  2.1849],\n",
       "         [-0.8231,  0.3416, -0.2842, -0.0677,  0.5132],\n",
       "         [ 1.1471, -1.1092, -0.9413,  0.2882, -0.1006],\n",
       "         [ 1.0846, -0.4941, -1.7459,  2.2431, -0.1643]],\n",
       "\n",
       "        [[ 0.5801, -1.0262, -0.3251, -0.5447, -0.4998],\n",
       "         [ 1.1931,  1.2072, -1.2808,  0.6636,  0.1499],\n",
       "         [-0.3880, -1.7968, -0.0102,  0.3905, -0.0942],\n",
       "         [-0.0206,  1.2071,  0.0653, -0.6481, -1.1461],\n",
       "         [-1.4864,  0.8137,  1.6081,  1.5094, -1.8110]],\n",
       "\n",
       "        [[ 0.0393,  0.0101, -0.3967,  0.3660, -0.3695],\n",
       "         [-1.2572,  1.3814, -0.3587, -1.3277,  0.5974],\n",
       "         [-0.1609,  0.2092,  0.8411, -0.6474,  0.2741],\n",
       "         [ 0.5174,  0.6575, -0.2815, -0.1079, -0.6953],\n",
       "         [ 0.0227, -1.6432,  0.5298, -0.1878,  0.6991]]])"
      ]
     },
     "execution_count": 5,
     "metadata": {},
     "output_type": "execute_result"
    }
   ],
   "source": [
    "img_t"
   ]
  },
  {
   "cell_type": "code",
   "execution_count": 6,
   "id": "c6b0c800",
   "metadata": {},
   "outputs": [],
   "source": [
    "weights = torch.tensor([0.2126, 0.7152, 0.0722])"
   ]
  },
  {
   "cell_type": "code",
   "execution_count": 7,
   "id": "1f1708bc",
   "metadata": {},
   "outputs": [
    {
     "data": {
      "text/plain": [
       "tensor([0.2126, 0.7152, 0.0722])"
      ]
     },
     "execution_count": 7,
     "metadata": {},
     "output_type": "execute_result"
    }
   ],
   "source": [
    "weights"
   ]
  },
  {
   "cell_type": "code",
   "execution_count": 8,
   "id": "a100be50",
   "metadata": {},
   "outputs": [],
   "source": [
    "batch_t = torch.randn(2, 3, 5, 5)  # shape[batch, channels, rows, columns]"
   ]
  },
  {
   "cell_type": "code",
   "execution_count": 9,
   "id": "de655547",
   "metadata": {},
   "outputs": [
    {
     "data": {
      "text/plain": [
       "tensor([[[[ 1.8634, -0.9144, -0.3084,  1.1259, -0.4351],\n",
       "          [ 0.7520, -0.0857,  0.8630, -0.8805,  0.6951],\n",
       "          [ 0.9289,  1.0509,  0.8075, -1.1594,  0.3582],\n",
       "          [-1.3511,  0.9965,  0.8507, -0.1648, -0.1428],\n",
       "          [-0.6640, -0.8038,  0.4159,  0.6124,  1.8575]],\n",
       "\n",
       "         [[-0.4557,  1.8943,  1.9027,  0.4091,  0.8439],\n",
       "          [ 0.3400, -1.8220,  0.1520,  1.8638,  0.8768],\n",
       "          [-0.1834,  0.6668, -0.7675, -0.5469, -0.6828],\n",
       "          [-1.6124,  1.1468, -0.1409,  0.2365,  0.1258],\n",
       "          [-0.2987,  0.6618,  0.4295, -0.4708, -0.4584]],\n",
       "\n",
       "         [[ 0.2063, -0.3508,  1.6016, -2.6981, -1.7821],\n",
       "          [-1.9811, -0.1697, -0.3630, -0.2358, -2.0367],\n",
       "          [ 0.4609, -2.3596,  1.8923, -0.2723, -0.8395],\n",
       "          [-0.8075,  2.0424, -0.4092,  1.9773,  0.8965],\n",
       "          [-0.8450,  0.2645,  0.1729, -0.5918,  1.0561]]],\n",
       "\n",
       "\n",
       "        [[[ 0.8067, -0.0221,  0.2820,  1.4546, -0.8656],\n",
       "          [ 0.7634, -0.0405,  0.0774, -0.4030, -0.8395],\n",
       "          [-0.7891, -0.5535,  0.9562,  0.1510,  0.4793],\n",
       "          [-0.7854, -0.5821,  2.5019,  0.5360,  0.8525],\n",
       "          [ 0.1541, -0.1126, -0.1233,  0.5994, -0.6486]],\n",
       "\n",
       "         [[-0.8930,  0.6507, -0.6599,  0.1441,  0.2642],\n",
       "          [-0.6846, -0.9302,  0.1144,  1.1585,  0.3523],\n",
       "          [-0.7423,  0.4822,  0.4271,  1.1134, -0.9863],\n",
       "          [-1.4579, -0.7784,  1.3640, -0.5447,  2.0558],\n",
       "          [ 0.2203,  1.0137, -0.9228,  0.0859,  0.6939]],\n",
       "\n",
       "         [[ 0.8872,  1.3048, -0.2620, -2.1665, -0.5665],\n",
       "          [-0.4674,  2.0182,  0.5227,  0.0967, -0.4581],\n",
       "          [-0.2913, -0.4475,  0.1525,  0.3521,  0.8952],\n",
       "          [ 0.3819,  1.0955, -1.0487,  3.1326, -1.6575],\n",
       "          [ 0.2190, -1.5178, -0.3855, -1.2851,  0.5238]]]])"
      ]
     },
     "execution_count": 9,
     "metadata": {},
     "output_type": "execute_result"
    }
   ],
   "source": [
    "batch_t"
   ]
  },
  {
   "cell_type": "markdown",
   "id": "18b5052c",
   "metadata": {},
   "source": [
    "#### torch.mean 求平均数"
   ]
  },
  {
   "cell_type": "code",
   "execution_count": 10,
   "id": "84787cf4",
   "metadata": {},
   "outputs": [],
   "source": [
    "img_gray_naive = img_t.mean(-3) "
   ]
  },
  {
   "cell_type": "code",
   "execution_count": 11,
   "id": "241b8ad2",
   "metadata": {},
   "outputs": [
    {
     "data": {
      "text/plain": [
       "tensor([[ 0.6535, -0.1359, -0.2134,  0.0117,  0.7073],\n",
       "        [-0.0243,  0.0810,  0.0115,  0.2742, -0.6802],\n",
       "        [-0.1677,  0.1230,  0.0668, -0.3810,  0.1011]])"
      ]
     },
     "execution_count": 11,
     "metadata": {},
     "output_type": "execute_result"
    }
   ],
   "source": [
    "img_t.mean(-2) "
   ]
  },
  {
   "cell_type": "code",
   "execution_count": 12,
   "id": "c1a10819",
   "metadata": {},
   "outputs": [],
   "source": [
    "batch_gray_naive = batch_t.mean(-3)"
   ]
  },
  {
   "cell_type": "code",
   "execution_count": 13,
   "id": "938a8b10",
   "metadata": {},
   "outputs": [
    {
     "data": {
      "text/plain": [
       "(tensor([[ 0.1262, -0.5537,  0.3009, -0.5066,  0.0779],\n",
       "         [ 0.6787,  1.2719, -0.4531, -0.5761,  0.9774],\n",
       "         [-0.4573, -0.4153,  0.1823, -0.1082,  0.2310],\n",
       "         [ 0.5480,  0.2518, -0.3859, -0.1559, -0.6473],\n",
       "         [-0.1264, -0.4412,  0.1307,  1.1882, -0.4254]]),\n",
       " tensor([[[ 0.5380,  0.2097,  1.0653, -0.3877, -0.4578],\n",
       "          [-0.2964, -0.6925,  0.2173,  0.2492, -0.1550],\n",
       "          [ 0.4022, -0.2140,  0.6441, -0.6595, -0.3880],\n",
       "          [-1.2570,  1.3953,  0.1002,  0.6830,  0.2932],\n",
       "          [-0.6026,  0.0408,  0.3395, -0.1501,  0.8184]],\n",
       " \n",
       "         [[ 0.2670,  0.6445, -0.2133, -0.1892, -0.3893],\n",
       "          [-0.1296,  0.3492,  0.2382,  0.2840, -0.3151],\n",
       "          [-0.6076, -0.1729,  0.5119,  0.5388,  0.1294],\n",
       "          [-0.6205, -0.0883,  0.9391,  1.0413,  0.4170],\n",
       "          [ 0.1978, -0.2056, -0.4772, -0.1999,  0.1897]]]))"
      ]
     },
     "execution_count": 13,
     "metadata": {},
     "output_type": "execute_result"
    }
   ],
   "source": [
    "img_gray_naive, batch_gray_naive"
   ]
  },
  {
   "cell_type": "code",
   "execution_count": 14,
   "id": "cfece9e4",
   "metadata": {},
   "outputs": [
    {
     "data": {
      "text/plain": [
       "(torch.Size([5, 5]), torch.Size([2, 5, 5]))"
      ]
     },
     "execution_count": 14,
     "metadata": {},
     "output_type": "execute_result"
    }
   ],
   "source": [
    "img_gray_naive.shape, batch_gray_naive.shape"
   ]
  },
  {
   "cell_type": "markdown",
   "id": "15a23917",
   "metadata": {},
   "source": [
    "#### torch.unsqueeze() 在一个维度上扩展"
   ]
  },
  {
   "cell_type": "code",
   "execution_count": 15,
   "id": "88414271",
   "metadata": {},
   "outputs": [],
   "source": [
    "unsqueezed_weights = weights.unsqueeze(-1).unsqueeze_(-1)"
   ]
  },
  {
   "cell_type": "code",
   "execution_count": 16,
   "id": "00069868",
   "metadata": {},
   "outputs": [
    {
     "data": {
      "text/plain": [
       "torch.Size([3, 1, 1])"
      ]
     },
     "execution_count": 16,
     "metadata": {},
     "output_type": "execute_result"
    }
   ],
   "source": [
    "weights.unsqueeze(-1).unsqueeze_(-1).shape"
   ]
  },
  {
   "cell_type": "code",
   "execution_count": 17,
   "id": "a65d2130",
   "metadata": {},
   "outputs": [],
   "source": [
    "img_weights = img_t * unsqueezed_weights  # 为什么要加括号?"
   ]
  },
  {
   "cell_type": "code",
   "execution_count": 18,
   "id": "ed44b620",
   "metadata": {},
   "outputs": [
    {
     "data": {
      "text/plain": [
       "tensor([[[-5.1217e-02, -1.3715e-01,  3.4538e-01, -2.8513e-01,  2.3453e-01],\n",
       "         [ 4.4647e-01,  2.6088e-01,  5.9544e-02, -2.2623e-01,  4.6451e-01],\n",
       "         [-1.7499e-01,  7.2632e-02, -6.0416e-02, -1.4403e-02,  1.0911e-01],\n",
       "         [ 2.4387e-01, -2.3581e-01, -2.0013e-01,  6.1266e-02, -2.1383e-02],\n",
       "         [ 2.3058e-01, -1.0504e-01, -3.7117e-01,  4.7688e-01, -3.4931e-02]],\n",
       "\n",
       "        [[ 4.1486e-01, -7.3394e-01, -2.3252e-01, -3.8957e-01, -3.5743e-01],\n",
       "         [ 8.5333e-01,  8.6335e-01, -9.1600e-01,  4.7461e-01,  1.0723e-01],\n",
       "         [-2.7749e-01, -1.2851e+00, -7.2919e-03,  2.7932e-01, -6.7390e-02],\n",
       "         [-1.4703e-02,  8.6330e-01,  4.6714e-02, -4.6351e-01, -8.1971e-01],\n",
       "         [-1.0631e+00,  5.8194e-01,  1.1501e+00,  1.0795e+00, -1.2952e+00]],\n",
       "\n",
       "        [[ 2.8409e-03,  7.2880e-04, -2.8640e-02,  2.6422e-02, -2.6681e-02],\n",
       "         [-9.0768e-02,  9.9740e-02, -2.5896e-02, -9.5861e-02,  4.3131e-02],\n",
       "         [-1.1619e-02,  1.5104e-02,  6.0730e-02, -4.6743e-02,  1.9787e-02],\n",
       "         [ 3.7355e-02,  4.7470e-02, -2.0328e-02, -7.7868e-03, -5.0201e-02],\n",
       "         [ 1.6418e-03, -1.1864e-01,  3.8252e-02, -1.3558e-02,  5.0477e-02]]])"
      ]
     },
     "execution_count": 18,
     "metadata": {},
     "output_type": "execute_result"
    }
   ],
   "source": [
    "img_weights"
   ]
  },
  {
   "cell_type": "code",
   "execution_count": 19,
   "id": "c388cc91",
   "metadata": {},
   "outputs": [],
   "source": [
    "batch_weights = (batch_t * unsqueezed_weights)"
   ]
  },
  {
   "cell_type": "code",
   "execution_count": 20,
   "id": "ae9caa5d",
   "metadata": {},
   "outputs": [
    {
     "data": {
      "text/plain": [
       "tensor([[[[ 0.3962, -0.1944, -0.0656,  0.2394, -0.0925],\n",
       "          [ 0.1599, -0.0182,  0.1835, -0.1872,  0.1478],\n",
       "          [ 0.1975,  0.2234,  0.1717, -0.2465,  0.0762],\n",
       "          [-0.2872,  0.2119,  0.1809, -0.0350, -0.0304],\n",
       "          [-0.1412, -0.1709,  0.0884,  0.1302,  0.3949]],\n",
       "\n",
       "         [[-0.3259,  1.3548,  1.3608,  0.2926,  0.6035],\n",
       "          [ 0.2432, -1.3031,  0.1087,  1.3330,  0.6271],\n",
       "          [-0.1311,  0.4769, -0.5489, -0.3911, -0.4883],\n",
       "          [-1.1532,  0.8202, -0.1008,  0.1691,  0.0900],\n",
       "          [-0.2137,  0.4733,  0.3072, -0.3367, -0.3279]],\n",
       "\n",
       "         [[ 0.0149, -0.0253,  0.1156, -0.1948, -0.1287],\n",
       "          [-0.1430, -0.0123, -0.0262, -0.0170, -0.1471],\n",
       "          [ 0.0333, -0.1704,  0.1366, -0.0197, -0.0606],\n",
       "          [-0.0583,  0.1475, -0.0295,  0.1428,  0.0647],\n",
       "          [-0.0610,  0.0191,  0.0125, -0.0427,  0.0763]]],\n",
       "\n",
       "\n",
       "        [[[ 0.1715, -0.0047,  0.0600,  0.3093, -0.1840],\n",
       "          [ 0.1623, -0.0086,  0.0165, -0.0857, -0.1785],\n",
       "          [-0.1678, -0.1177,  0.2033,  0.0321,  0.1019],\n",
       "          [-0.1670, -0.1238,  0.5319,  0.1139,  0.1812],\n",
       "          [ 0.0328, -0.0239, -0.0262,  0.1274, -0.1379]],\n",
       "\n",
       "         [[-0.6387,  0.4654, -0.4720,  0.1031,  0.1889],\n",
       "          [-0.4896, -0.6653,  0.0818,  0.8286,  0.2520],\n",
       "          [-0.5309,  0.3449,  0.3055,  0.7963, -0.7054],\n",
       "          [-1.0427, -0.5567,  0.9755, -0.3896,  1.4703],\n",
       "          [ 0.1576,  0.7250, -0.6600,  0.0615,  0.4963]],\n",
       "\n",
       "         [[ 0.0641,  0.0942, -0.0189, -0.1564, -0.0409],\n",
       "          [-0.0337,  0.1457,  0.0377,  0.0070, -0.0331],\n",
       "          [-0.0210, -0.0323,  0.0110,  0.0254,  0.0646],\n",
       "          [ 0.0276,  0.0791, -0.0757,  0.2262, -0.1197],\n",
       "          [ 0.0158, -0.1096, -0.0278, -0.0928,  0.0378]]]])"
      ]
     },
     "execution_count": 20,
     "metadata": {},
     "output_type": "execute_result"
    }
   ],
   "source": [
    "batch_weights"
   ]
  },
  {
   "cell_type": "code",
   "execution_count": 21,
   "id": "f2b2d21b",
   "metadata": {},
   "outputs": [],
   "source": [
    "img_gray_weighted = img_weights.sum(-3)"
   ]
  },
  {
   "cell_type": "code",
   "execution_count": 22,
   "id": "224bd6bb",
   "metadata": {},
   "outputs": [
    {
     "data": {
      "text/plain": [
       "tensor([[ 0.3665, -0.8704,  0.0842, -0.6483, -0.1496],\n",
       "        [ 1.2090,  1.2240, -0.8824,  0.1525,  0.6149],\n",
       "        [-0.4641, -1.1973, -0.0070,  0.2182,  0.0615],\n",
       "        [ 0.2665,  0.6750, -0.1737, -0.4100, -0.8913],\n",
       "        [-0.8308,  0.3583,  0.8172,  1.5428, -1.2797]])"
      ]
     },
     "execution_count": 22,
     "metadata": {},
     "output_type": "execute_result"
    }
   ],
   "source": [
    "img_gray_weighted"
   ]
  },
  {
   "cell_type": "code",
   "execution_count": 23,
   "id": "a9d6fd0c",
   "metadata": {},
   "outputs": [],
   "source": [
    "batch_gray_weighted = batch_weights.sum(-3)"
   ]
  },
  {
   "cell_type": "code",
   "execution_count": 24,
   "id": "c0c2d7ce",
   "metadata": {},
   "outputs": [
    {
     "data": {
      "text/plain": [
       "tensor([[[ 0.0851,  1.1351,  1.4109,  0.3371,  0.3823],\n",
       "         [ 0.2600, -1.3336,  0.2660,  1.1288,  0.6278],\n",
       "         [ 0.0996,  0.5299, -0.2406, -0.6573, -0.4728],\n",
       "         [-1.4987,  1.1795,  0.0505,  0.2768,  0.1243],\n",
       "         [-0.4159,  0.3215,  0.4081, -0.2492,  0.1433]],\n",
       "\n",
       "        [[-0.4031,  0.5549, -0.4309,  0.2559, -0.0360],\n",
       "         [-0.3611, -0.5282,  0.1360,  0.7499,  0.0404],\n",
       "         [-0.7197,  0.1949,  0.5198,  0.8538, -0.5389],\n",
       "         [-1.1821, -0.6014,  1.4317, -0.0494,  1.5319],\n",
       "         [ 0.2061,  0.5915, -0.7140,  0.0961,  0.3962]]])"
      ]
     },
     "execution_count": 24,
     "metadata": {},
     "output_type": "execute_result"
    }
   ],
   "source": [
    "batch_gray_weighted"
   ]
  },
  {
   "cell_type": "code",
   "execution_count": 25,
   "id": "71654051",
   "metadata": {},
   "outputs": [
    {
     "data": {
      "text/plain": [
       "(torch.Size([5, 5]), torch.Size([2, 5, 5]), torch.Size([3, 1, 1]))"
      ]
     },
     "execution_count": 25,
     "metadata": {},
     "output_type": "execute_result"
    }
   ],
   "source": [
    "img_gray_weighted.shape, batch_gray_weighted.shape, unsqueezed_weights.shape"
   ]
  },
  {
   "cell_type": "markdown",
   "id": "bc733fa5",
   "metadata": {},
   "source": [
    "#### 爱因斯坦乘积"
   ]
  },
  {
   "cell_type": "code",
   "execution_count": 26,
   "id": "172ae5af",
   "metadata": {},
   "outputs": [],
   "source": [
    "img_gray_weighted_fancy = torch.einsum('...chw,c->...hw', img_t, weights)"
   ]
  },
  {
   "cell_type": "code",
   "execution_count": 27,
   "id": "ce42845e",
   "metadata": {},
   "outputs": [],
   "source": [
    "batch_gray_weighted_fancy = torch.einsum('...chw,c->...hw', batch_t, weights)"
   ]
  },
  {
   "cell_type": "code",
   "execution_count": 28,
   "id": "08aed13a",
   "metadata": {},
   "outputs": [
    {
     "data": {
      "text/plain": [
       "(torch.Size([2, 5, 5]), torch.Size([5, 5]))"
      ]
     },
     "execution_count": 28,
     "metadata": {},
     "output_type": "execute_result"
    }
   ],
   "source": [
    "batch_gray_weighted_fancy.shape, img_gray_weighted_fancy.shape"
   ]
  },
  {
   "cell_type": "code",
   "execution_count": 30,
   "id": "42c78cfe",
   "metadata": {},
   "outputs": [
    {
     "name": "stderr",
     "output_type": "stream",
     "text": [
      "C:\\Users\\WIN10\\AppData\\Local\\Temp\\ipykernel_2936\\4237662077.py:1: UserWarning: Named tensors and all their associated APIs are an experimental feature and subject to change. Please do not use them for anything important until they are released as stable. (Triggered internally at C:\\cb\\pytorch_1000000000000\\work\\c10/core/TensorImpl.h:1761.)\n",
      "  weights_named = torch.tensor([0.2126, 0.7152, 0.0772], names=['channels'])\n"
     ]
    }
   ],
   "source": [
    "weights_named = torch.tensor([0.2126, 0.7152, 0.0772], names=['channels'])  # 命名是实验特性"
   ]
  },
  {
   "cell_type": "markdown",
   "id": "361a6f36",
   "metadata": {},
   "source": [
    "# 3.5 张量的元素类型"
   ]
  },
  {
   "cell_type": "code",
   "execution_count": 32,
   "id": "5c7bacc6",
   "metadata": {},
   "outputs": [
    {
     "data": {
      "text/plain": [
       "tensor([[1., 1.],\n",
       "        [1., 1.],\n",
       "        [1., 1.],\n",
       "        [1., 1.],\n",
       "        [1., 1.],\n",
       "        [1., 1.],\n",
       "        [1., 1.],\n",
       "        [1., 1.],\n",
       "        [1., 1.],\n",
       "        [1., 1.]], dtype=torch.float64)"
      ]
     },
     "execution_count": 32,
     "metadata": {},
     "output_type": "execute_result"
    }
   ],
   "source": [
    "double_points = torch.ones(10, 2, dtype=torch.double)\n",
    "\n",
    "double_points"
   ]
  },
  {
   "cell_type": "code",
   "execution_count": 37,
   "id": "47ba4c24",
   "metadata": {},
   "outputs": [
    {
     "data": {
      "text/plain": [
       "tensor([[1, 2],\n",
       "        [3, 4]], dtype=torch.int16)"
      ]
     },
     "execution_count": 37,
     "metadata": {},
     "output_type": "execute_result"
    }
   ],
   "source": [
    "short_points = torch.tensor([[1, 2], [3, 4]], dtype=torch.short)\n",
    "\n",
    "short_points"
   ]
  },
  {
   "cell_type": "code",
   "execution_count": 38,
   "id": "f800294a",
   "metadata": {},
   "outputs": [
    {
     "data": {
      "text/plain": [
       "torch.int16"
      ]
     },
     "execution_count": 38,
     "metadata": {},
     "output_type": "execute_result"
    }
   ],
   "source": [
    "short_points.dtype"
   ]
  },
  {
   "cell_type": "code",
   "execution_count": 46,
   "id": "9fe87669",
   "metadata": {},
   "outputs": [
    {
     "data": {
      "text/plain": [
       "tensor([1.4824, -0.0000, -0.0000, 0.0000, 0.0000], dtype=torch.float64)"
      ]
     },
     "execution_count": 46,
     "metadata": {},
     "output_type": "execute_result"
    }
   ],
   "source": [
    "double_points = torch.zeros(10, 2).double()\n",
    "\n",
    "short_points = torch.ones(10, 2).double()\n",
    "\n",
    "double_points = torch.zeros(10, 2).to(torch.double)\n",
    "\n",
    "short_points = torch.ones(10, 2).to(torch.double)\n",
    "\n",
    "points_64 = torch.randn(5, dtype=torch.double)\n",
    "\n",
    "points_short = points_64.to(torch.short)\n",
    "\n",
    "points_64 * points_short  # dtype不同的两个张量操作，会向大的类型转换"
   ]
  },
  {
   "cell_type": "markdown",
   "id": "d83bbb45",
   "metadata": {},
   "source": [
    "# 3.6 张量的API"
   ]
  },
  {
   "cell_type": "code",
   "execution_count": 49,
   "id": "0f0e66f3",
   "metadata": {},
   "outputs": [
    {
     "data": {
      "text/plain": [
       "(torch.Size([3, 2]), torch.Size([2, 3]))"
      ]
     },
     "execution_count": 49,
     "metadata": {},
     "output_type": "execute_result"
    }
   ],
   "source": [
    "a = torch.ones(3, 2)\n",
    "\n",
    "a_t = torch.transpose(a, 0, 1)\n",
    "\n",
    "a.shape, a_t.shape"
   ]
  },
  {
   "cell_type": "code",
   "execution_count": 51,
   "id": "3a810492",
   "metadata": {},
   "outputs": [
    {
     "data": {
      "text/plain": [
       "torch.Size([2, 3])"
      ]
     },
     "execution_count": 51,
     "metadata": {},
     "output_type": "execute_result"
    }
   ],
   "source": [
    "a_t_other = a.transpose(0, 1)\n",
    "\n",
    "a_t_other.shape"
   ]
  },
  {
   "cell_type": "markdown",
   "id": "f7423225",
   "metadata": {},
   "source": [
    "# 3.7 张量的存储视图"
   ]
  },
  {
   "cell_type": "code",
   "execution_count": 2,
   "id": "0bd9d13f",
   "metadata": {},
   "outputs": [
    {
     "data": {
      "text/plain": [
       " 4.0\n",
       " 1.0\n",
       " 5.0\n",
       " 3.0\n",
       " 2.0\n",
       " 1.0\n",
       "[torch.storage.TypedStorage(dtype=torch.float32, device=cpu) of size 6]"
      ]
     },
     "execution_count": 2,
     "metadata": {},
     "output_type": "execute_result"
    }
   ],
   "source": [
    "points = torch.tensor([[4.0, 1.0], [5.0, 3.0], [2.0, 1.0]])\n",
    "points.storage()"
   ]
  },
  {
   "cell_type": "code",
   "execution_count": 3,
   "id": "21e45208",
   "metadata": {},
   "outputs": [],
   "source": [
    "points_storage = points.storage()"
   ]
  },
  {
   "cell_type": "code",
   "execution_count": 4,
   "id": "c09ba410",
   "metadata": {},
   "outputs": [
    {
     "data": {
      "text/plain": [
       "4.0"
      ]
     },
     "execution_count": 4,
     "metadata": {},
     "output_type": "execute_result"
    }
   ],
   "source": [
    "points_storage[0]"
   ]
  },
  {
   "cell_type": "code",
   "execution_count": 5,
   "id": "92c7b611",
   "metadata": {},
   "outputs": [
    {
     "data": {
      "text/plain": [
       "1.0"
      ]
     },
     "execution_count": 5,
     "metadata": {},
     "output_type": "execute_result"
    }
   ],
   "source": [
    "points.storage()[1]"
   ]
  },
  {
   "cell_type": "code",
   "execution_count": 8,
   "id": "4182722a",
   "metadata": {
    "scrolled": true
   },
   "outputs": [
    {
     "data": {
      "text/plain": [
       "( 2.0\n",
       "  1.0\n",
       "  5.0\n",
       "  3.0\n",
       "  2.0\n",
       "  1.0\n",
       " [torch.storage.TypedStorage(dtype=torch.float32, device=cpu) of size 6],\n",
       " tensor([[2., 1.],\n",
       "         [5., 3.],\n",
       "         [2., 1.]]))"
      ]
     },
     "execution_count": 8,
     "metadata": {},
     "output_type": "execute_result"
    }
   ],
   "source": [
    "points_storage[0] = 2.0\n",
    "points_storage, points"
   ]
  },
  {
   "cell_type": "code",
   "execution_count": 11,
   "id": "ddf19350",
   "metadata": {},
   "outputs": [
    {
     "data": {
      "text/plain": [
       "tensor([[0., 0.],\n",
       "        [0., 0.],\n",
       "        [0., 0.]])"
      ]
     },
     "execution_count": 11,
     "metadata": {},
     "output_type": "execute_result"
    }
   ],
   "source": [
    "a = torch.ones(3, 2)\n",
    "a.zero_()  # 带下划线会改变原有张量，不带下划线会返回一个新张量"
   ]
  },
  {
   "cell_type": "markdown",
   "id": "c465fd50",
   "metadata": {},
   "source": [
    "# 3.8 张量元数据：大小、偏移和步长"
   ]
  },
  {
   "cell_type": "code",
   "execution_count": 3,
   "id": "bdc71153",
   "metadata": {},
   "outputs": [
    {
     "data": {
      "text/plain": [
       "2"
      ]
     },
     "execution_count": 3,
     "metadata": {},
     "output_type": "execute_result"
    }
   ],
   "source": [
    "points = torch.tensor([[4.0, 1.0], [5.0, 3.0], [2.0, 1.0]])\n",
    "second_points = points[1]\n",
    "second_points.storage_offset()   # 返回tensor的第一个元素与storage的第一个元素的偏移量"
   ]
  },
  {
   "cell_type": "code",
   "execution_count": 4,
   "id": "a74374ba",
   "metadata": {},
   "outputs": [
    {
     "data": {
      "text/plain": [
       "torch.Size([2])"
      ]
     },
     "execution_count": 4,
     "metadata": {},
     "output_type": "execute_result"
    }
   ],
   "source": [
    "second_points.size()"
   ]
  },
  {
   "cell_type": "code",
   "execution_count": 5,
   "id": "e1657a4b",
   "metadata": {},
   "outputs": [
    {
     "data": {
      "text/plain": [
       "torch.Size([2])"
      ]
     },
     "execution_count": 5,
     "metadata": {},
     "output_type": "execute_result"
    }
   ],
   "source": [
    "second_points.shape"
   ]
  },
  {
   "cell_type": "code",
   "execution_count": 6,
   "id": "4b49ee52",
   "metadata": {},
   "outputs": [
    {
     "data": {
      "text/plain": [
       "(2, 1)"
      ]
     },
     "execution_count": 6,
     "metadata": {},
     "output_type": "execute_result"
    }
   ],
   "source": [
    "points.stride()"
   ]
  },
  {
   "cell_type": "code",
   "execution_count": 7,
   "id": "5cc9a9f4",
   "metadata": {},
   "outputs": [
    {
     "data": {
      "text/plain": [
       "torch.Size([2])"
      ]
     },
     "execution_count": 7,
     "metadata": {},
     "output_type": "execute_result"
    }
   ],
   "source": [
    "second_point = points[1]\n",
    "second_point.size()"
   ]
  },
  {
   "cell_type": "code",
   "execution_count": 8,
   "id": "fd767be0",
   "metadata": {},
   "outputs": [
    {
     "data": {
      "text/plain": [
       "2"
      ]
     },
     "execution_count": 8,
     "metadata": {},
     "output_type": "execute_result"
    }
   ],
   "source": [
    "second_point.storage_offset()"
   ]
  },
  {
   "cell_type": "code",
   "execution_count": 9,
   "id": "8c41fe61",
   "metadata": {},
   "outputs": [
    {
     "data": {
      "text/plain": [
       "(1,)"
      ]
     },
     "execution_count": 9,
     "metadata": {},
     "output_type": "execute_result"
    }
   ],
   "source": [
    "second_point.stride()"
   ]
  },
  {
   "cell_type": "code",
   "execution_count": 10,
   "id": "160cad79",
   "metadata": {},
   "outputs": [
    {
     "data": {
      "text/plain": [
       "(1,)"
      ]
     },
     "execution_count": 10,
     "metadata": {},
     "output_type": "execute_result"
    }
   ],
   "source": [
    "second_points.stride()"
   ]
  },
  {
   "cell_type": "code",
   "execution_count": 11,
   "id": "d6c0fb9b",
   "metadata": {},
   "outputs": [
    {
     "data": {
      "text/plain": [
       "tensor([[-0.5581,  0.9940,  0.7504],\n",
       "        [-0.9257, -0.6961,  0.1031],\n",
       "        [ 0.0229, -2.0957,  2.6469]])"
      ]
     },
     "execution_count": 11,
     "metadata": {},
     "output_type": "execute_result"
    }
   ],
   "source": [
    "point_t = torch.randn(3,3)\n",
    "point_t"
   ]
  },
  {
   "cell_type": "code",
   "execution_count": 12,
   "id": "5df0c690",
   "metadata": {},
   "outputs": [
    {
     "data": {
      "text/plain": [
       "((1,), (3, 1), 3)"
      ]
     },
     "execution_count": 12,
     "metadata": {},
     "output_type": "execute_result"
    }
   ],
   "source": [
    "second_point_t = point_t[1]\n",
    "second_point_t.stride(), point_t.stride(), second_point_t.storage_offset()"
   ]
  },
  {
   "cell_type": "code",
   "execution_count": 13,
   "id": "fefb6a11",
   "metadata": {},
   "outputs": [
    {
     "data": {
      "text/plain": [
       "(torch.Size([3]), torch.Size([3, 3]))"
      ]
     },
     "execution_count": 13,
     "metadata": {},
     "output_type": "execute_result"
    }
   ],
   "source": [
    "second_point_t.size(), point_t.size()"
   ]
  },
  {
   "cell_type": "code",
   "execution_count": 14,
   "id": "ddbd7044",
   "metadata": {},
   "outputs": [
    {
     "data": {
      "text/plain": [
       "tensor([[4., 1.],\n",
       "        [5., 3.],\n",
       "        [2., 1.]])"
      ]
     },
     "execution_count": 14,
     "metadata": {},
     "output_type": "execute_result"
    }
   ],
   "source": [
    "second_point[0] = 5.0\n",
    "points"
   ]
  },
  {
   "cell_type": "code",
   "execution_count": 15,
   "id": "9783b4c2",
   "metadata": {},
   "outputs": [
    {
     "data": {
      "text/plain": [
       "tensor([[4., 1.],\n",
       "        [5., 3.],\n",
       "        [2., 1.]])"
      ]
     },
     "execution_count": 15,
     "metadata": {},
     "output_type": "execute_result"
    }
   ],
   "source": [
    "points = torch.tensor([[4.0, 1.0], [5.0, 3.0], [2.0, 1.0]])\n",
    "second_point = points[1].clone()\n",
    "second_point[0] = 10.0\n",
    "points"
   ]
  },
  {
   "cell_type": "code",
   "execution_count": 16,
   "id": "fef4c857",
   "metadata": {},
   "outputs": [
    {
     "data": {
      "text/plain": [
       "tensor([[4., 5., 2.],\n",
       "        [1., 3., 1.]])"
      ]
     },
     "execution_count": 16,
     "metadata": {},
     "output_type": "execute_result"
    }
   ],
   "source": [
    "points = torch.tensor([[4.0, 1.0], [5.0, 3.0], [2.0, 1.0]])\n",
    "points_t = points.t()  # 二维转置\n",
    "points_t"
   ]
  },
  {
   "cell_type": "code",
   "execution_count": 17,
   "id": "99e72bd5",
   "metadata": {},
   "outputs": [
    {
     "data": {
      "text/plain": [
       "True"
      ]
     },
     "execution_count": 17,
     "metadata": {},
     "output_type": "execute_result"
    }
   ],
   "source": [
    "id(points.storage()) == id(points_t.storage())"
   ]
  },
  {
   "cell_type": "code",
   "execution_count": 18,
   "id": "e4028ac8",
   "metadata": {},
   "outputs": [
    {
     "data": {
      "text/plain": [
       "((2, 1), (1, 2))"
      ]
     },
     "execution_count": 18,
     "metadata": {},
     "output_type": "execute_result"
    }
   ],
   "source": [
    "points.stride(), points_t.stride()"
   ]
  },
  {
   "cell_type": "code",
   "execution_count": 19,
   "id": "337bd9c1",
   "metadata": {},
   "outputs": [
    {
     "data": {
      "text/plain": [
       "(torch.Size([3, 4, 5]), torch.Size([5, 4, 3]))"
      ]
     },
     "execution_count": 19,
     "metadata": {},
     "output_type": "execute_result"
    }
   ],
   "source": [
    "some_t = torch.ones(3, 4, 5)\n",
    "transpose_t = some_t.transpose(0, 2)\n",
    "some_t.shape, transpose_t.shape"
   ]
  },
  {
   "cell_type": "code",
   "execution_count": 20,
   "id": "33043f7b",
   "metadata": {},
   "outputs": [
    {
     "data": {
      "text/plain": [
       "((20, 5, 1), (1, 5, 20))"
      ]
     },
     "execution_count": 20,
     "metadata": {},
     "output_type": "execute_result"
    }
   ],
   "source": [
    "some_t.stride(), transpose_t.stride()"
   ]
  },
  {
   "cell_type": "code",
   "execution_count": 21,
   "id": "b25767aa",
   "metadata": {},
   "outputs": [
    {
     "data": {
      "text/plain": [
       "True"
      ]
     },
     "execution_count": 21,
     "metadata": {},
     "output_type": "execute_result"
    }
   ],
   "source": [
    "points.is_contiguous()"
   ]
  },
  {
   "cell_type": "code",
   "execution_count": 22,
   "id": "ce29852d",
   "metadata": {},
   "outputs": [
    {
     "data": {
      "text/plain": [
       "False"
      ]
     },
     "execution_count": 22,
     "metadata": {},
     "output_type": "execute_result"
    }
   ],
   "source": [
    "points_t.is_contiguous()"
   ]
  },
  {
   "cell_type": "code",
   "execution_count": 23,
   "id": "a9abaaf6",
   "metadata": {},
   "outputs": [
    {
     "data": {
      "text/plain": [
       "tensor([[4., 5., 2.],\n",
       "        [1., 3., 1.]])"
      ]
     },
     "execution_count": 23,
     "metadata": {},
     "output_type": "execute_result"
    }
   ],
   "source": [
    "points_t"
   ]
  },
  {
   "cell_type": "code",
   "execution_count": 24,
   "id": "f73c70a1",
   "metadata": {},
   "outputs": [],
   "source": [
    "points_t_cont = points_t.contiguous()"
   ]
  },
  {
   "cell_type": "code",
   "execution_count": 25,
   "id": "72ca79d9",
   "metadata": {},
   "outputs": [
    {
     "data": {
      "text/plain": [
       "tensor([[4., 5., 2.],\n",
       "        [1., 3., 1.]])"
      ]
     },
     "execution_count": 25,
     "metadata": {},
     "output_type": "execute_result"
    }
   ],
   "source": [
    "points_t_cont"
   ]
  },
  {
   "cell_type": "code",
   "execution_count": 26,
   "id": "a187d5c6",
   "metadata": {},
   "outputs": [
    {
     "data": {
      "text/plain": [
       "((1, 2), (3, 1))"
      ]
     },
     "execution_count": 26,
     "metadata": {},
     "output_type": "execute_result"
    }
   ],
   "source": [
    "points_t.stride(), points_t_cont.stride()"
   ]
  },
  {
   "cell_type": "markdown",
   "id": "2e6a41fd",
   "metadata": {},
   "source": [
    "# 3.9 将张量存储到GPU"
   ]
  },
  {
   "cell_type": "code",
   "execution_count": 27,
   "id": "e84ab5a0",
   "metadata": {},
   "outputs": [
    {
     "data": {
      "text/plain": [
       "tensor([[4., 1.],\n",
       "        [5., 3.],\n",
       "        [2., 1.]], device='cuda:0')"
      ]
     },
     "execution_count": 27,
     "metadata": {},
     "output_type": "execute_result"
    }
   ],
   "source": [
    "points_gpu = torch.tensor([[4.0, 1.0], [5.0, 3.0], [2.0, 1.0]], device='cuda')\n",
    "points_gpu"
   ]
  },
  {
   "cell_type": "code",
   "execution_count": 28,
   "id": "b8205e0a",
   "metadata": {},
   "outputs": [
    {
     "data": {
      "text/plain": [
       "tensor([[4., 1.],\n",
       "        [5., 3.],\n",
       "        [2., 1.]], device='cuda:0')"
      ]
     },
     "execution_count": 28,
     "metadata": {},
     "output_type": "execute_result"
    }
   ],
   "source": [
    "points_gpu = points.to(device='cuda')\n",
    "points_gpu"
   ]
  },
  {
   "cell_type": "code",
   "execution_count": 29,
   "id": "22d10f46",
   "metadata": {},
   "outputs": [
    {
     "data": {
      "text/plain": [
       "(tensor([[ 8.,  2.],\n",
       "         [10.,  6.],\n",
       "         [ 4.,  2.]]),\n",
       " tensor([[16.,  4.],\n",
       "         [20., 12.],\n",
       "         [ 8.,  4.]], device='cuda:0'))"
      ]
     },
     "execution_count": 29,
     "metadata": {},
     "output_type": "execute_result"
    }
   ],
   "source": [
    "points = 2 * points\n",
    "points_gpu = 2 * points.to(device='cuda')\n",
    "points, points_gpu"
   ]
  },
  {
   "cell_type": "code",
   "execution_count": 30,
   "id": "c3bca0d9",
   "metadata": {},
   "outputs": [
    {
     "data": {
      "text/plain": [
       "tensor([[20.,  8.],\n",
       "        [24., 16.],\n",
       "        [12.,  8.]], device='cuda:0')"
      ]
     },
     "execution_count": 30,
     "metadata": {},
     "output_type": "execute_result"
    }
   ],
   "source": [
    "points_gpu = points_gpu + 4\n",
    "points_gpu"
   ]
  },
  {
   "cell_type": "code",
   "execution_count": 31,
   "id": "df4385f1",
   "metadata": {},
   "outputs": [
    {
     "data": {
      "text/plain": [
       "tensor([[20.,  8.],\n",
       "        [24., 16.],\n",
       "        [12.,  8.]])"
      ]
     },
     "execution_count": 31,
     "metadata": {},
     "output_type": "execute_result"
    }
   ],
   "source": [
    "points_gpu = points_gpu.to(device='cpu')\n",
    "points_gpu"
   ]
  },
  {
   "cell_type": "code",
   "execution_count": 32,
   "id": "7d7dc334",
   "metadata": {},
   "outputs": [],
   "source": [
    "points_gpu = points.cuda()\n",
    "points_gpu = points.cuda(0)\n",
    "points_cpu = points_gpu.cpu()"
   ]
  },
  {
   "cell_type": "markdown",
   "id": "3d5f38c7",
   "metadata": {},
   "source": [
    "# 3.10 Numpy 互操作性"
   ]
  },
  {
   "cell_type": "code",
   "execution_count": 33,
   "id": "74f337df",
   "metadata": {},
   "outputs": [
    {
     "data": {
      "text/plain": [
       "array([[1., 1., 1., 1.],\n",
       "       [1., 1., 1., 1.],\n",
       "       [1., 1., 1., 1.]], dtype=float32)"
      ]
     },
     "execution_count": 33,
     "metadata": {},
     "output_type": "execute_result"
    }
   ],
   "source": [
    "points = torch.ones(3, 4)\n",
    "points_np = points.numpy()\n",
    "points_np"
   ]
  },
  {
   "cell_type": "code",
   "execution_count": 34,
   "id": "d518ebd5",
   "metadata": {},
   "outputs": [
    {
     "data": {
      "text/plain": [
       "tensor([[1., 1., 1., 1.],\n",
       "        [1., 1., 1., 1.],\n",
       "        [1., 1., 1., 1.]])"
      ]
     },
     "execution_count": 34,
     "metadata": {},
     "output_type": "execute_result"
    }
   ],
   "source": [
    "points = torch.from_numpy(points_np)\n",
    "points"
   ]
  },
  {
   "cell_type": "code",
   "execution_count": 35,
   "id": "f75935b5",
   "metadata": {},
   "outputs": [
    {
     "data": {
      "text/plain": [
       "device(type='cpu')"
      ]
     },
     "execution_count": 35,
     "metadata": {},
     "output_type": "execute_result"
    }
   ],
   "source": [
    "points.device"
   ]
  },
  {
   "cell_type": "markdown",
   "id": "1ab8a775",
   "metadata": {},
   "source": [
    "# 3.12 广义张量"
   ]
  },
  {
   "cell_type": "code",
   "execution_count": 36,
   "id": "27b1953f",
   "metadata": {},
   "outputs": [],
   "source": [
    "torch.save(points, 'F:\\jupyter home\\data\\chapter 3\\ourpoints.t')"
   ]
  },
  {
   "cell_type": "code",
   "execution_count": 37,
   "id": "3d5cb1ca",
   "metadata": {},
   "outputs": [],
   "source": [
    "with open('F:\\jupyter home\\data\\chapter 3\\ourpoints.t', 'wb') as f:\n",
    "    torch.save(points, f)"
   ]
  },
  {
   "cell_type": "code",
   "execution_count": 38,
   "id": "c415fd21",
   "metadata": {},
   "outputs": [
    {
     "data": {
      "text/plain": [
       "tensor([[1., 1., 1., 1.],\n",
       "        [1., 1., 1., 1.],\n",
       "        [1., 1., 1., 1.]])"
      ]
     },
     "execution_count": 38,
     "metadata": {},
     "output_type": "execute_result"
    }
   ],
   "source": [
    "points = torch.load('F:\\jupyter home\\data\\chapter 3\\ourpoints.t')\n",
    "points"
   ]
  },
  {
   "cell_type": "code",
   "execution_count": 39,
   "id": "a762ee78",
   "metadata": {},
   "outputs": [
    {
     "data": {
      "text/plain": [
       "tensor([[1., 1., 1., 1.],\n",
       "        [1., 1., 1., 1.],\n",
       "        [1., 1., 1., 1.]])"
      ]
     },
     "execution_count": 39,
     "metadata": {},
     "output_type": "execute_result"
    }
   ],
   "source": [
    "with open('F:\\jupyter home\\data\\chapter 3\\ourpoints.t', 'rb') as f:\n",
    "    points = torch.load(f)\n",
    "points"
   ]
  },
  {
   "cell_type": "code",
   "execution_count": 40,
   "id": "72205898",
   "metadata": {},
   "outputs": [],
   "source": [
    "import h5py\n",
    "\n",
    "f = h5py.File('F:\\jupyter home\\data\\chapter 3\\ourpoints.hdf5', 'w')\n",
    "dset = f.create_dataset('coords', data=points.numpy())\n",
    "f.close()"
   ]
  },
  {
   "cell_type": "code",
   "execution_count": 42,
   "id": "751cd892",
   "metadata": {},
   "outputs": [],
   "source": [
    "f = h5py.File('F:\\jupyter home\\data\\chapter 3\\ourpoints.hdf5', 'r')\n",
    "dset = f['coords']\n",
    "last_points = dset[-2:]"
   ]
  },
  {
   "cell_type": "code",
   "execution_count": 45,
   "id": "7edf29f4",
   "metadata": {},
   "outputs": [
    {
     "data": {
      "text/plain": [
       "(<HDF5 dataset \"coords\": shape (3, 4), type \"<f4\">,\n",
       " array([[1., 1., 1., 1.],\n",
       "        [1., 1., 1., 1.]], dtype=float32))"
      ]
     },
     "execution_count": 45,
     "metadata": {},
     "output_type": "execute_result"
    }
   ],
   "source": [
    "dset, last_points"
   ]
  },
  {
   "cell_type": "code",
   "execution_count": 47,
   "id": "503cd24b",
   "metadata": {},
   "outputs": [
    {
     "data": {
      "text/plain": [
       "tensor([[1., 1., 1., 1.],\n",
       "        [1., 1., 1., 1.]])"
      ]
     },
     "execution_count": 47,
     "metadata": {},
     "output_type": "execute_result"
    }
   ],
   "source": [
    "last_points = torch.from_numpy(dset[-2:])\n",
    "last_points"
   ]
  },
  {
   "cell_type": "code",
   "execution_count": 48,
   "id": "24146851",
   "metadata": {},
   "outputs": [
    {
     "data": {
      "text/plain": [
       "<bound method File.close of <HDF5 file \"ourpoints.hdf5\" (mode r)>>"
      ]
     },
     "execution_count": 48,
     "metadata": {},
     "output_type": "execute_result"
    }
   ],
   "source": [
    "f.close"
   ]
  }
 ],
 "metadata": {
  "kernelspec": {
   "display_name": "DL_Pytorch",
   "language": "python",
   "name": "dl_pytorch"
  },
  "language_info": {
   "codemirror_mode": {
    "name": "ipython",
    "version": 3
   },
   "file_extension": ".py",
   "mimetype": "text/x-python",
   "name": "python",
   "nbconvert_exporter": "python",
   "pygments_lexer": "ipython3",
   "version": "3.9.15 (main, Nov 24 2022, 14:39:17) [MSC v.1916 64 bit (AMD64)]"
  }
 },
 "nbformat": 4,
 "nbformat_minor": 5
}
