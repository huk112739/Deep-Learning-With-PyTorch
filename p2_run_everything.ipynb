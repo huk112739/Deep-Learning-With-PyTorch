{
 "cells": [
  {
   "cell_type": "code",
   "execution_count": 1,
   "metadata": {},
   "outputs": [],
   "source": [
    "import logging\n",
    "from part2.util.util import importstr\n",
    "log = logging.getLogger('nb')"
   ]
  },
  {
   "cell_type": "code",
   "execution_count": 2,
   "metadata": {},
   "outputs": [],
   "source": [
    "def run(app, *argv):\n",
    "    argv = list(argv)\n",
    "    argv.insert(0, '--num_workers=8')\n",
    "    log.info(\"Running: {}({!r}).main()\".format(app, argv))\n",
    "\n",
    "    app_cls = importstr(*app.rsplit('.', 1))\n",
    "    app_cls(argv).main()\n",
    "\n",
    "    log.info('Finished: {}.{!r}.main()'.format(app, argv))"
   ]
  },
  {
   "cell_type": "markdown",
   "metadata": {},
   "source": [
    "#### Chapter 11 Classification"
   ]
  },
  {
   "cell_type": "code",
   "execution_count": 3,
   "metadata": {
    "scrolled": false
   },
   "outputs": [
    {
     "name": "stderr",
     "output_type": "stream",
     "text": [
      "2023-04-25 22:56:53,787 INFO     pid:10472 part2.classification.training:055:initModel Using CUDA:1 device.\n",
      "2023-04-25 22:56:53,879 INFO     pid:10472 part2.classification.training:245:main Starting LunaTrainingApp, Namespace(num_workers=8, batch_size=32, epoch=1, tb_prefix='classification', comment='dwlpt')\n",
      "2023-04-25 22:56:56,083 INFO     pid:10472 part2.data_process.dsets:176:__init__ <part2.data_process.dsets.LunaDataset object at 0x00000161040E8A60>: 495958 training samples\n",
      "2023-04-25 22:56:56,091 INFO     pid:10472 part2.data_process.dsets:176:__init__ <part2.data_process.dsets.LunaDataset object at 0x00000161040E8B20>: 55107 validation samples\n",
      "2023-04-25 22:56:56,092 INFO     pid:10472 part2.classification.training:251:main Epoch 1 of 1, 15499/1723 batches of size 32*1\n",
      "2023-04-25 22:56:56,792 WARNING  pid:10472 part2.util.util:223:enumerateWithEstimate E1 Training ----/15499, starting\n",
      "2023-04-25 22:57:17,605 INFO     pid:10472 part2.util.util:240:enumerateWithEstimate E1 Training   64/15499, done at 2023-04-25 23:03:16, 0:06:00\n",
      "2023-04-25 22:57:22,109 INFO     pid:10472 part2.util.util:240:enumerateWithEstimate E1 Training  256/15499, done at 2023-04-25 23:03:19, 0:06:02\n",
      "2023-04-25 22:57:40,197 INFO     pid:10472 part2.util.util:240:enumerateWithEstimate E1 Training 1024/15499, done at 2023-04-25 23:03:20, 0:06:04\n",
      "2023-04-25 22:58:52,552 INFO     pid:10472 part2.util.util:240:enumerateWithEstimate E1 Training 4096/15499, done at 2023-04-25 23:03:21, 0:06:04\n",
      "2023-04-25 23:03:23,602 WARNING  pid:10472 part2.util.util:253:enumerateWithEstimate E1 Training ----/15499, done at 2023-04-25 23:03:23\n",
      "2023-04-25 23:03:23,611 INFO     pid:10472 part2.classification.training:150:logMetrics E1 LunaTrainingApp\n",
      "2023-04-25 23:03:23,629 INFO     pid:10472 part2.classification.training:180:logMetrics E1 trn      0.0214 loss, 100.0% correct, \n",
      "2023-04-25 23:03:23,630 INFO     pid:10472 part2.classification.training:189:logMetrics E1 trn_neg  0.0213 loss, 100.0% correct (494550 of 494743)\n",
      "2023-04-25 23:03:23,630 INFO     pid:10472 part2.classification.training:200:logMetrics E1 trn_pos  0.0819 loss,  97.4% correct (1183 of 1215)\n",
      "2023-04-25 23:03:23,668 WARNING  pid:10472 part2.util.util:223:enumerateWithEstimate E1 Validation  ----/1723, starting\n",
      "2023-04-25 23:03:32,794 INFO     pid:10472 part2.util.util:240:enumerateWithEstimate E1 Validation    64/1723, done at 2023-04-25 23:03:44, 0:00:11\n",
      "2023-04-25 23:03:34,194 INFO     pid:10472 part2.util.util:240:enumerateWithEstimate E1 Validation   256/1723, done at 2023-04-25 23:03:44, 0:00:12\n",
      "2023-04-25 23:03:40,087 INFO     pid:10472 part2.util.util:240:enumerateWithEstimate E1 Validation  1024/1723, done at 2023-04-25 23:03:45, 0:00:12\n",
      "2023-04-25 23:03:46,356 WARNING  pid:10472 part2.util.util:253:enumerateWithEstimate E1 Validation  ----/1723, done at 2023-04-25 23:03:46\n",
      "2023-04-25 23:03:46,357 INFO     pid:10472 part2.classification.training:150:logMetrics E1 LunaTrainingApp\n",
      "2023-04-25 23:03:46,359 INFO     pid:10472 part2.classification.training:180:logMetrics E1 val      225519408.0000 loss,  99.8% correct, \n",
      "2023-04-25 23:03:46,360 INFO     pid:10472 part2.classification.training:189:logMetrics E1 val_neg  0.0000 loss, 100.0% correct (54971 of 54971)\n",
      "2023-04-25 23:03:46,360 INFO     pid:10472 part2.classification.training:200:logMetrics E1 val_pos  91380129792.0000 loss,   0.0% correct (0 of 136)\n",
      "2023-04-25 23:03:46,374 INFO     pid:10472 nb:009:run Finished: part2.classification.training.LunaTrainingApp.['--num_workers=8', '--epoch=1'].main()\n"
     ]
    }
   ],
   "source": [
    "run('part2.classification.training.LunaTrainingApp', '--epoch=1')"
   ]
  },
  {
   "cell_type": "code",
   "execution_count": null,
   "metadata": {},
   "outputs": [],
   "source": []
  }
 ],
 "metadata": {
  "kernelspec": {
   "display_name": "DL_Pytorch",
   "language": "python",
   "name": "dl_pytorch"
  },
  "language_info": {
   "codemirror_mode": {
    "name": "ipython",
    "version": 3
   },
   "file_extension": ".py",
   "mimetype": "text/x-python",
   "name": "python",
   "nbconvert_exporter": "python",
   "pygments_lexer": "ipython3",
   "version": "3.9.15"
  }
 },
 "nbformat": 4,
 "nbformat_minor": 1
}
